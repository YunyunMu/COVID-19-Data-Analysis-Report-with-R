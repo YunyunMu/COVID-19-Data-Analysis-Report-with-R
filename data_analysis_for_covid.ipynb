{
 "cells": [
  {
   "cell_type": "code",
   "execution_count": 1,
   "id": "18d5cae2",
   "metadata": {
    "_execution_state": "idle",
    "_uuid": "051d70d956493feee0c6d64651c6a088724dca2a",
    "execution": {
     "iopub.execute_input": "2024-12-03T16:45:43.577668Z",
     "iopub.status.busy": "2024-12-03T16:45:43.575640Z",
     "iopub.status.idle": "2024-12-03T16:45:43.951101Z",
     "shell.execute_reply": "2024-12-03T16:45:43.949383Z"
    },
    "papermill": {
     "duration": 0.381635,
     "end_time": "2024-12-03T16:45:43.953316",
     "exception": false,
     "start_time": "2024-12-03T16:45:43.571681",
     "status": "completed"
    },
    "tags": [],
    "vscode": {
     "languageId": "r"
    }
   },
   "outputs": [
    {
     "name": "stderr",
     "output_type": "stream",
     "text": [
      "\n",
      "Attaching package: ‘dplyr’\n",
      "\n",
      "\n"
     ]
    },
    {
     "name": "stderr",
     "output_type": "stream",
     "text": [
      "The following objects are masked from ‘package:stats’:\n",
      "\n",
      "    filter, lag\n",
      "\n",
      "\n"
     ]
    },
    {
     "name": "stderr",
     "output_type": "stream",
     "text": [
      "The following objects are masked from ‘package:base’:\n",
      "\n",
      "    intersect, setdiff, setequal, union\n",
      "\n",
      "\n"
     ]
    }
   ],
   "source": [
    "# Load necessary libraries\n",
    "library(readr)\n",
    "library(tibble)\n",
    "library(dplyr)"
   ]
  },
  {
   "cell_type": "code",
   "execution_count": null,
   "id": "17a76cb7",
   "metadata": {
    "execution": {
     "iopub.execute_input": "2024-12-03T16:45:43.993172Z",
     "iopub.status.busy": "2024-12-03T16:45:43.958492Z",
     "iopub.status.idle": "2024-12-03T16:45:44.314559Z",
     "shell.execute_reply": "2024-12-03T16:45:44.312735Z"
    },
    "papermill": {
     "duration": 0.361736,
     "end_time": "2024-12-03T16:45:44.316928",
     "exception": false,
     "start_time": "2024-12-03T16:45:43.955192",
     "status": "completed"
    },
    "tags": [],
    "vscode": {
     "languageId": "r"
    }
   },
   "outputs": [
    {
     "name": "stderr",
     "output_type": "stream",
     "text": [
      "\u001b[1mRows: \u001b[22m\u001b[34m27641\u001b[39m \u001b[1mColumns: \u001b[22m\u001b[34m12\u001b[39m\n"
     ]
    },
    {
     "name": "stderr",
     "output_type": "stream",
     "text": [
      "\u001b[36m──\u001b[39m \u001b[1mColumn specification\u001b[22m \u001b[36m────────────────────────────────────────────────────────\u001b[39m\n",
      "\u001b[1mDelimiter:\u001b[22m \",\"\n",
      "\u001b[31mchr\u001b[39m  (2): Country_Region, Province_State\n",
      "\u001b[32mdbl\u001b[39m  (9): positive, active, hospitalized, hospitalizedCurr, recovered, death...\n",
      "\u001b[34mdate\u001b[39m (1): Date\n"
     ]
    },
    {
     "name": "stderr",
     "output_type": "stream",
     "text": [
      "\n",
      "\u001b[36mℹ\u001b[39m Use `spec()` to retrieve the full column specification for this data.\n",
      "\u001b[36mℹ\u001b[39m Specify the column types or set `show_col_types = FALSE` to quiet this message.\n"
     ]
    }
   ],
   "source": [
    "# Load the data using readr\n",
    "covid_data <- read_csv(\"/COVID-19-Data-Analysis-Report-with-R/tested_worldwide.csv\")\n",
    "\n",
    "# Convert to a tibble for easier exploration\n",
    "covid_data <- as_tibble(covid_data)"
   ]
  },
  {
   "cell_type": "code",
   "execution_count": null,
   "id": "b3768d34",
   "metadata": {
    "execution": {
     "iopub.execute_input": "2024-12-03T16:45:44.324209Z",
     "iopub.status.busy": "2024-12-03T16:45:44.322723Z",
     "iopub.status.idle": "2024-12-03T16:45:45.326381Z",
     "shell.execute_reply": "2024-12-03T16:45:45.323597Z"
    },
    "papermill": {
     "duration": 1.010607,
     "end_time": "2024-12-03T16:45:45.329517",
     "exception": false,
     "start_time": "2024-12-03T16:45:44.318910",
     "status": "completed"
    },
    "tags": [],
    "vscode": {
     "languageId": "r"
    }
   },
   "outputs": [
    {
     "name": "stdout",
     "output_type": "stream",
     "text": [
      "\u001b[90m# A tibble: 27,641 × 12\u001b[39m\n",
      "   Date       Country_Region Province_State positive active hospitalized\n",
      "   \u001b[3m\u001b[90m<date>\u001b[39m\u001b[23m     \u001b[3m\u001b[90m<chr>\u001b[39m\u001b[23m          \u001b[3m\u001b[90m<chr>\u001b[39m\u001b[23m             \u001b[3m\u001b[90m<dbl>\u001b[39m\u001b[23m  \u001b[3m\u001b[90m<dbl>\u001b[39m\u001b[23m        \u001b[3m\u001b[90m<dbl>\u001b[39m\u001b[23m\n",
      "\u001b[90m 1\u001b[39m 2020-01-16 Iceland        All States            3     \u001b[31mNA\u001b[39m           \u001b[31mNA\u001b[39m\n",
      "\u001b[90m 2\u001b[39m 2020-01-17 Iceland        All States            4     \u001b[31mNA\u001b[39m           \u001b[31mNA\u001b[39m\n",
      "\u001b[90m 3\u001b[39m 2020-01-18 Iceland        All States            7     \u001b[31mNA\u001b[39m           \u001b[31mNA\u001b[39m\n",
      "\u001b[90m 4\u001b[39m 2020-01-20 South Korea    All States            1     \u001b[31mNA\u001b[39m           \u001b[31mNA\u001b[39m\n",
      "\u001b[90m 5\u001b[39m 2020-01-22 United States  All States            0     \u001b[31mNA\u001b[39m           \u001b[31mNA\u001b[39m\n",
      "\u001b[90m 6\u001b[39m 2020-01-22 United States  Massachusetts         0     \u001b[31mNA\u001b[39m           \u001b[31mNA\u001b[39m\n",
      "\u001b[90m 7\u001b[39m 2020-01-22 United States  Washington            0     \u001b[31mNA\u001b[39m           \u001b[31mNA\u001b[39m\n",
      "\u001b[90m 8\u001b[39m 2020-01-23 United States  All States            0     \u001b[31mNA\u001b[39m           \u001b[31mNA\u001b[39m\n",
      "\u001b[90m 9\u001b[39m 2020-01-23 United States  Massachusetts         0     \u001b[31mNA\u001b[39m           \u001b[31mNA\u001b[39m\n",
      "\u001b[90m10\u001b[39m 2020-01-23 United States  Washington            0     \u001b[31mNA\u001b[39m           \u001b[31mNA\u001b[39m\n",
      "\u001b[90m# ℹ 27,631 more rows\u001b[39m\n",
      "\u001b[90m# ℹ 6 more variables: hospitalizedCurr <dbl>, recovered <dbl>, death <dbl>,\u001b[39m\n",
      "\u001b[90m#   total_tested <dbl>, daily_tested <dbl>, daily_positive <dbl>\u001b[39m\n"
     ]
    },
    {
     "name": "stdout",
     "output_type": "stream",
     "text": [
      "$summary_statistics\n",
      "\u001b[90m# A tibble: 108 × 4\u001b[39m\n",
      "   Country_Region               total_tests total_positive_cases positivity_rate\n",
      "   \u001b[3m\u001b[90m<chr>\u001b[39m\u001b[23m                              \u001b[3m\u001b[90m<dbl>\u001b[39m\u001b[23m                \u001b[3m\u001b[90m<dbl>\u001b[39m\u001b[23m           \u001b[3m\u001b[90m<dbl>\u001b[39m\u001b[23m\n",
      "\u001b[90m 1\u001b[39m Ecuador                           \u001b[4m2\u001b[24m\u001b[4m7\u001b[24m\u001b[4m8\u001b[24m341                 \u001b[4m5\u001b[24m289           1.90 \n",
      "\u001b[90m 2\u001b[39m Mexico                            \u001b[4m3\u001b[24m\u001b[4m9\u001b[24m\u001b[4m2\u001b[24m396                 \u001b[4m5\u001b[24m528           1.41 \n",
      "\u001b[90m 3\u001b[39m Scotland                          \u001b[4m2\u001b[24m\u001b[4m9\u001b[24m\u001b[4m6\u001b[24m097                 \u001b[4m3\u001b[24m491           1.18 \n",
      "\u001b[90m 4\u001b[39m Piedmont                          \u001b[4m4\u001b[24m\u001b[4m9\u001b[24m\u001b[4m0\u001b[24m999                 \u001b[4m5\u001b[24m073           1.03 \n",
      "\u001b[90m 5\u001b[39m France                           1\u001b[4m9\u001b[24m\u001b[4m7\u001b[24m\u001b[4m6\u001b[24m091                \u001b[4m2\u001b[24m\u001b[4m0\u001b[24m112           1.02 \n",
      "\u001b[90m 6\u001b[39m Panama                             \u001b[4m6\u001b[24m\u001b[4m4\u001b[24m634                  605           0.936\n",
      "\u001b[90m 7\u001b[39m Bolivia                            \u001b[4m1\u001b[24m\u001b[4m7\u001b[24m082                  148           0.866\n",
      "\u001b[90m 8\u001b[39m Liguria                           \u001b[4m1\u001b[24m\u001b[4m2\u001b[24m\u001b[4m7\u001b[24m240                 \u001b[4m1\u001b[24m048           0.824\n",
      "\u001b[90m 9\u001b[39m Nigeria                           \u001b[4m1\u001b[24m\u001b[4m0\u001b[24m\u001b[4m4\u001b[24m746                  851           0.812\n",
      "\u001b[90m10\u001b[39m Democratic Republic of the …        \u001b[4m1\u001b[24m733                   14           0.808\n",
      "\u001b[90m# ℹ 98 more rows\u001b[39m\n",
      "\n",
      "$top_test_countries\n",
      "\u001b[90m# A tibble: 10 × 4\u001b[39m\n",
      "   Country_Region total_tests total_positive_cases positivity_rate\n",
      "   \u001b[3m\u001b[90m<chr>\u001b[39m\u001b[23m                \u001b[3m\u001b[90m<dbl>\u001b[39m\u001b[23m                \u001b[3m\u001b[90m<dbl>\u001b[39m\u001b[23m           \u001b[3m\u001b[90m<dbl>\u001b[39m\u001b[23m\n",
      "\u001b[90m 1\u001b[39m United States  \u001b[4m2\u001b[24m\u001b[4m3\u001b[24m586\u001b[4m2\u001b[24m\u001b[4m2\u001b[24m\u001b[4m0\u001b[24m239             19\u001b[4m6\u001b[24m\u001b[4m1\u001b[24m\u001b[4m1\u001b[24m786       0.083\u001b[4m1\u001b[24m   \n",
      "\u001b[90m 2\u001b[39m Canada          \u001b[4m1\u001b[24m797\u001b[4m9\u001b[24m\u001b[4m7\u001b[24m\u001b[4m4\u001b[24m730               \u001b[4m5\u001b[24m\u001b[4m2\u001b[24m\u001b[4m0\u001b[24m007       0.028\u001b[4m9\u001b[24m   \n",
      "\u001b[90m 3\u001b[39m Italy           \u001b[4m1\u001b[24m547\u001b[4m4\u001b[24m\u001b[4m6\u001b[24m\u001b[4m7\u001b[24m885               \u001b[4m9\u001b[24m\u001b[4m3\u001b[24m\u001b[4m4\u001b[24m875       0.060\u001b[4m4\u001b[24m   \n",
      "\u001b[90m 4\u001b[39m Israel           388\u001b[4m1\u001b[24m\u001b[4m9\u001b[24m\u001b[4m6\u001b[24m929                  402       0.000\u001b[4m1\u001b[24m\u001b[4m0\u001b[24m\u001b[4m4\u001b[24m \n",
      "\u001b[90m 5\u001b[39m Russia           300\u001b[4m3\u001b[24m\u001b[4m0\u001b[24m\u001b[4m0\u001b[24m499               \u001b[4m4\u001b[24m\u001b[4m3\u001b[24m\u001b[4m1\u001b[24m047       0.144    \n",
      "\u001b[90m 6\u001b[39m Australia        237\u001b[4m0\u001b[24m\u001b[4m6\u001b[24m\u001b[4m0\u001b[24m964                  -\u001b[31m72\u001b[39m      -\u001b[31m0\u001b[39m\u001b[31m.\u001b[39m\u001b[31m000\u001b[4m0\u001b[24m\u001b[39m\u001b[31m\u001b[4m3\u001b[24m\u001b[4m0\u001b[24m4\u001b[39m\n",
      "\u001b[90m 7\u001b[39m Bangladesh       233\u001b[4m1\u001b[24m\u001b[4m4\u001b[24m\u001b[4m9\u001b[24m689               \u001b[4m4\u001b[24m\u001b[4m2\u001b[24m\u001b[4m0\u001b[24m235       0.180    \n",
      "\u001b[90m 8\u001b[39m Turkey           228\u001b[4m3\u001b[24m\u001b[4m2\u001b[24m\u001b[4m5\u001b[24m949               \u001b[4m2\u001b[24m\u001b[4m2\u001b[24m\u001b[4m1\u001b[24m453       0.097\u001b[4m0\u001b[24m   \n",
      "\u001b[90m 9\u001b[39m Czechia          180\u001b[4m0\u001b[24m\u001b[4m6\u001b[24m\u001b[4m5\u001b[24m578               \u001b[4m4\u001b[24m\u001b[4m0\u001b[24m\u001b[4m3\u001b[24m498       0.224    \n",
      "\u001b[90m10\u001b[39m Greece           142\u001b[4m0\u001b[24m\u001b[4m4\u001b[24m\u001b[4m6\u001b[24m893                \u001b[4m5\u001b[24m\u001b[4m4\u001b[24m603       0.038\u001b[4m4\u001b[24m   \n",
      "\n",
      "$top_positive_countries\n",
      "\u001b[90m# A tibble: 10 × 4\u001b[39m\n",
      "   Country_Region               total_tests total_positive_cases positivity_rate\n",
      "   \u001b[3m\u001b[90m<chr>\u001b[39m\u001b[23m                              \u001b[3m\u001b[90m<dbl>\u001b[39m\u001b[23m                \u001b[3m\u001b[90m<dbl>\u001b[39m\u001b[23m           \u001b[3m\u001b[90m<dbl>\u001b[39m\u001b[23m\n",
      "\u001b[90m 1\u001b[39m Ecuador                           \u001b[4m2\u001b[24m\u001b[4m7\u001b[24m\u001b[4m8\u001b[24m341                 \u001b[4m5\u001b[24m289           1.90 \n",
      "\u001b[90m 2\u001b[39m Mexico                            \u001b[4m3\u001b[24m\u001b[4m9\u001b[24m\u001b[4m2\u001b[24m396                 \u001b[4m5\u001b[24m528           1.41 \n",
      "\u001b[90m 3\u001b[39m Scotland                          \u001b[4m2\u001b[24m\u001b[4m9\u001b[24m\u001b[4m6\u001b[24m097                 \u001b[4m3\u001b[24m491           1.18 \n",
      "\u001b[90m 4\u001b[39m Piedmont                          \u001b[4m4\u001b[24m\u001b[4m9\u001b[24m\u001b[4m0\u001b[24m999                 \u001b[4m5\u001b[24m073           1.03 \n",
      "\u001b[90m 5\u001b[39m France                           1\u001b[4m9\u001b[24m\u001b[4m7\u001b[24m\u001b[4m6\u001b[24m091                \u001b[4m2\u001b[24m\u001b[4m0\u001b[24m112           1.02 \n",
      "\u001b[90m 6\u001b[39m Panama                             \u001b[4m6\u001b[24m\u001b[4m4\u001b[24m634                  605           0.936\n",
      "\u001b[90m 7\u001b[39m Bolivia                            \u001b[4m1\u001b[24m\u001b[4m7\u001b[24m082                  148           0.866\n",
      "\u001b[90m 8\u001b[39m Liguria                           \u001b[4m1\u001b[24m\u001b[4m2\u001b[24m\u001b[4m7\u001b[24m240                 \u001b[4m1\u001b[24m048           0.824\n",
      "\u001b[90m 9\u001b[39m Nigeria                           \u001b[4m1\u001b[24m\u001b[4m0\u001b[24m\u001b[4m4\u001b[24m746                  851           0.812\n",
      "\u001b[90m10\u001b[39m Democratic Republic of the …        \u001b[4m1\u001b[24m733                   14           0.808\n",
      "\n",
      "$findings_matrix\n",
      "      top_countries                      positivity_rates   \n",
      " [1,] \"Ecuador\"                          \"1.90018718047287\" \n",
      " [2,] \"Mexico\"                           \"1.4087809253917\"  \n",
      " [3,] \"Scotland\"                         \"1.17900552859367\" \n",
      " [4,] \"Piedmont\"                         \"1.03319966028444\" \n",
      " [5,] \"France\"                           \"1.01776689433837\" \n",
      " [6,] \"Panama\"                           \"0.936039855184578\"\n",
      " [7,] \"Bolivia\"                          \"0.866409085587168\"\n",
      " [8,] \"Liguria\"                          \"0.8236403646652\"  \n",
      " [9,] \"Nigeria\"                          \"0.812441525213373\"\n",
      "[10,] \"Democratic Republic of the Congo\" \"0.807847663012118\"\n",
      "\n"
     ]
    },
    {
     "data": {
      "image/png": "[encoded data removed]"
     },
     "metadata": {
      "image/png": {
       "height": 420,
       "width": 420
      }
     },
     "output_type": "display_data"
    }
   ],
   "source": [
    "# View the first few rows and structure of the dataset\n",
    "print(covid_data)\n",
    "\n",
    "# Filter and select the interested columns\n",
    "# is.na means is not available\n",
    "covid_filtered <- covid_data %>%\n",
    "  filter(!is.na(total_tested), !is.na(daily_positive)) %>%\n",
    "  select(Country_Region, total_tested, daily_positive)\n",
    "\n",
    "# Aggregate and calculate summary statistics\n",
    "summary_stats <- covid_filtered %>%\n",
    "  group_by(Country_Region) %>%\n",
    "  summarize(\n",
    "    total_tests = sum(total_tested),\n",
    "    total_positive_cases = sum(daily_positive),\n",
    "    positivity_rate = (total_positive_cases / total_tests) * 100\n",
    "  ) %>%\n",
    "  arrange(desc(positivity_rate))\n",
    "\n",
    "# Top 10 countries by total tests\n",
    "top_test_countries <- summary_stats %>%\n",
    "  arrange(desc(total_tests)) %>%\n",
    "  slice_head(n = 10)\n",
    "\n",
    "# Top 10 countries by positivity rate\n",
    "top_positive_countries <- summary_stats %>%\n",
    "  arrange(desc(positivity_rate)) %>%\n",
    "  slice_head(n = 10)\n",
    "\n",
    "# Create vectors for country names and positivity rates\n",
    "top_countries <- top_positive_countries$Country_Region\n",
    "positivity_rates <- top_positive_countries$positivity_rate\n",
    "\n",
    "# Create a matrix with country names and positivity rates\n",
    "results_matrix <- cbind(top_countries, positivity_rates)\n",
    "\n",
    "# Compile results into a list\n",
    "results_list <- list(\n",
    "  summary_statistics = summary_stats,\n",
    "  top_test_countries = top_test_countries,\n",
    "  top_positive_countries = top_positive_countries,\n",
    "  findings_matrix = results_matrix\n",
    ")\n",
    "\n",
    "# Print the list\n",
    "print(results_list)\n",
    "\n",
    "# Load ggplot2\n",
    "library(ggplot2)\n",
    "\n",
    "# Plot the top 10 countries by positivity rate\n",
    "#labs means labels; theme_minimal means minimize the annotations in the background \n",
    "ggplot(summary_stats %>% slice_max(positivity_rate, n = 10), aes(x = reorder(Country_Region, positivity_rate), y = positivity_rate)) +\n",
    "  geom_bar(stat = \"identity\", fill = \"steelblue\") +\n",
    "  coord_flip() +\n",
    "  labs(\n",
    "    title = \"Top 10 Countries by COVID-19 Positivity Rate\",\n",
    "    x = \"Country\",\n",
    "    y = \"Positivity Rate (%)\"\n",
    "  ) +\n",
    "  theme_minimal()"
   ]
  }
 ],
 "metadata": {
  "kaggle": {
   "accelerator": "none",
   "dataSources": [
    {
     "datasetId": 600463,
     "sourceId": 1629053,
     "sourceType": "datasetVersion"
    }
   ],
   "dockerImageVersionId": 30749,
   "isGpuEnabled": false,
   "isInternetEnabled": true,
   "language": "r",
   "sourceType": "notebook"
  },
  "kernelspec": {
   "display_name": "R",
   "language": "R",
   "name": "ir"
  },
  "language_info": {
   "codemirror_mode": "r",
   "file_extension": ".r",
   "mimetype": "text/x-r-source",
   "name": "R",
   "pygments_lexer": "r",
   "version": "4.4.0"
  },
  "papermill": {
   "default_parameters": {},
   "duration": 4.724719,
   "end_time": "2024-12-03T16:45:45.452954",
   "environment_variables": {},
   "exception": null,
   "input_path": "__notebook__.ipynb",
   "output_path": "__notebook__.ipynb",
   "parameters": {},
   "start_time": "2024-12-03T16:45:40.728235",
   "version": "2.6.0"
  }
 },
 "nbformat": 4,
 "nbformat_minor": 5
}
